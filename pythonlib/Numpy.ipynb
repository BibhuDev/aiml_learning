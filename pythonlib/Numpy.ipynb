{
  "nbformat": 4,
  "nbformat_minor": 0,
  "metadata": {
    "colab": {
      "provenance": []
    },
    "kernelspec": {
      "name": "python3",
      "display_name": "Python 3"
    },
    "language_info": {
      "name": "python"
    }
  },
  "cells": [
    {
      "cell_type": "markdown",
      "source": [
        "Numpy tutorial"
      ],
      "metadata": {
        "id": "pMHRul4yZTIr"
      }
    },
    {
      "cell_type": "code",
      "source": [
        "import numpy as np\n"
      ],
      "metadata": {
        "id": "X2t_PJffZWM7"
      },
      "execution_count": 4,
      "outputs": []
    },
    {
      "cell_type": "markdown",
      "source": [
        "numpy is short for numerical python. it is used for heavy and fast mathematical operations."
      ],
      "metadata": {
        "id": "kmXXIrWUcKEx"
      }
    },
    {
      "cell_type": "code",
      "source": [
        "a= np.array([1,2,3,4])\n",
        "print(a)\n",
        "print(a.shape)\n"
      ],
      "metadata": {
        "colab": {
          "base_uri": "https://localhost:8080/"
        },
        "id": "VUgYp04yZxQ3",
        "outputId": "0a3b8fa2-b9e2-41fc-beff-3692cdb3e4ca"
      },
      "execution_count": 5,
      "outputs": [
        {
          "output_type": "stream",
          "name": "stdout",
          "text": [
            "[1 2 3 4]\n",
            "(4,)\n"
          ]
        }
      ]
    },
    {
      "cell_type": "code",
      "source": [
        "b= np.array([(1,2,3,4), (5,6,7,8), (9,10,11,12)])\n",
        "print(b)\n",
        "print(b.shape)\n"
      ],
      "metadata": {
        "colab": {
          "base_uri": "https://localhost:8080/"
        },
        "id": "c6iz1ElxcfaW",
        "outputId": "c3e0e686-8935-47ac-c9a8-1f08ea6a7990"
      },
      "execution_count": 6,
      "outputs": [
        {
          "output_type": "stream",
          "name": "stdout",
          "text": [
            "[[ 1  2  3  4]\n",
            " [ 5  6  7  8]\n",
            " [ 9 10 11 12]]\n",
            "(3, 4)\n"
          ]
        }
      ]
    },
    {
      "cell_type": "markdown",
      "source": [
        "initialising placeholders in numpy array"
      ],
      "metadata": {
        "id": "tuWoOubxdfnn"
      }
    },
    {
      "cell_type": "code",
      "source": [
        "x= np.full((3,5), 69)\n",
        "print(x)"
      ],
      "metadata": {
        "colab": {
          "base_uri": "https://localhost:8080/"
        },
        "id": "24rc9xEydAxa",
        "outputId": "8c69c2b6-fd2c-4cf0-e450-371b4120aa5e"
      },
      "execution_count": 9,
      "outputs": [
        {
          "output_type": "stream",
          "name": "stdout",
          "text": [
            "[[69 69 69 69 69]\n",
            " [69 69 69 69 69]\n",
            " [69 69 69 69 69]]\n"
          ]
        }
      ]
    },
    {
      "cell_type": "code",
      "source": [
        "i= np.eye(5, dtype=int)\n",
        "print(i)"
      ],
      "metadata": {
        "colab": {
          "base_uri": "https://localhost:8080/"
        },
        "id": "p_6UznCWdveK",
        "outputId": "bf0c24cf-61d9-42a5-b125-213c6be11c4a"
      },
      "execution_count": 10,
      "outputs": [
        {
          "output_type": "stream",
          "name": "stdout",
          "text": [
            "[[1 0 0 0 0]\n",
            " [0 1 0 0 0]\n",
            " [0 0 1 0 0]\n",
            " [0 0 0 1 0]\n",
            " [0 0 0 0 1]]\n"
          ]
        }
      ]
    },
    {
      "cell_type": "code",
      "source": [
        "i= np.eye(5)\n",
        "print(i)"
      ],
      "metadata": {
        "colab": {
          "base_uri": "https://localhost:8080/"
        },
        "id": "C849dLlheg4_",
        "outputId": "b1c2e255-7e46-4280-ea29-433ee4fe0cc9"
      },
      "execution_count": 11,
      "outputs": [
        {
          "output_type": "stream",
          "name": "stdout",
          "text": [
            "[[1. 0. 0. 0. 0.]\n",
            " [0. 1. 0. 0. 0.]\n",
            " [0. 0. 1. 0. 0.]\n",
            " [0. 0. 0. 1. 0.]\n",
            " [0. 0. 0. 0. 1.]]\n"
          ]
        }
      ]
    },
    {
      "cell_type": "markdown",
      "source": [
        "creating an array with random values"
      ],
      "metadata": {
        "id": "a_qweqvJe2pU"
      }
    },
    {
      "cell_type": "code",
      "source": [
        "a= np.random.random((3,3))\n",
        "print(a)\n"
      ],
      "metadata": {
        "colab": {
          "base_uri": "https://localhost:8080/"
        },
        "id": "gLivgkxMeosf",
        "outputId": "f9e86d54-7e48-4a79-a286-67e63252d541"
      },
      "execution_count": 14,
      "outputs": [
        {
          "output_type": "stream",
          "name": "stdout",
          "text": [
            "[[0.10216129 0.66423282 0.42647157]\n",
            " [0.57711835 0.36245862 0.0651422 ]\n",
            " [0.59063918 0.40043287 0.93343159]]\n"
          ]
        }
      ]
    },
    {
      "cell_type": "code",
      "source": [
        "b= np.random.randint(10,100,(3,3))\n",
        "print(b)"
      ],
      "metadata": {
        "colab": {
          "base_uri": "https://localhost:8080/"
        },
        "id": "R54OTM3oh-HP",
        "outputId": "9c783492-f7bd-42d7-adce-efe90014f564"
      },
      "execution_count": 16,
      "outputs": [
        {
          "output_type": "stream",
          "name": "stdout",
          "text": [
            "[[35 94 38]\n",
            " [40 34 12]\n",
            " [56 75 23]]\n"
          ]
        }
      ]
    },
    {
      "cell_type": "code",
      "source": [
        "print(b.size)"
      ],
      "metadata": {
        "colab": {
          "base_uri": "https://localhost:8080/"
        },
        "id": "MeUPkPh6iVZq",
        "outputId": "5ba77205-321d-45f7-b279-efb94b0aec50"
      },
      "execution_count": 17,
      "outputs": [
        {
          "output_type": "stream",
          "name": "stdout",
          "text": [
            "9\n"
          ]
        }
      ]
    },
    {
      "cell_type": "markdown",
      "source": [
        "Mathematical operations on a numpy array"
      ],
      "metadata": {
        "id": "1G1y1DCojrAL"
      }
    },
    {
      "cell_type": "code",
      "source": [
        "a= np.random.randint(0,10,(3,4))\n",
        "b= np.random.randint(10,20,(3,4))\n",
        "print(a)\n",
        "print(b)\n",
        "print(a*b)"
      ],
      "metadata": {
        "colab": {
          "base_uri": "https://localhost:8080/"
        },
        "id": "gASBazUzjjdg",
        "outputId": "5540ca97-0f4f-4796-c0d2-d990ab15e401"
      },
      "execution_count": 19,
      "outputs": [
        {
          "output_type": "stream",
          "name": "stdout",
          "text": [
            "[[2 7 1 1]\n",
            " [0 4 1 4]\n",
            " [9 8 3 6]]\n",
            "[[15 14 14 17]\n",
            " [13 16 11 13]\n",
            " [10 14 16 16]]\n",
            "[[ 30  98  14  17]\n",
            " [  0  64  11  52]\n",
            " [ 90 112  48  96]]\n"
          ]
        }
      ]
    },
    {
      "cell_type": "code",
      "source": [
        "print(np.add(a,b))"
      ],
      "metadata": {
        "colab": {
          "base_uri": "https://localhost:8080/"
        },
        "id": "G-LZcSZFknP5",
        "outputId": "03ab2975-ba25-4076-a66e-c5fd9375cfcd"
      },
      "execution_count": 20,
      "outputs": [
        {
          "output_type": "stream",
          "name": "stdout",
          "text": [
            "[[17 21 15 18]\n",
            " [13 20 12 17]\n",
            " [19 22 19 22]]\n"
          ]
        }
      ]
    },
    {
      "cell_type": "code",
      "source": [],
      "metadata": {
        "id": "1YQVNjXllCsf"
      },
      "execution_count": null,
      "outputs": []
    }
  ]
}